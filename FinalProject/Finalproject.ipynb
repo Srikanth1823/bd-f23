{
 "cells": [
  {
   "cell_type": "markdown",
   "id": "6963b70e-2713-4600-8fa1-8f010df44ed7",
   "metadata": {},
   "source": [
    "# Team Name : Hadoop Heros \n"
   ]
  },
  {
   "cell_type": "markdown",
   "id": "c9e292f0-f9fe-4b1a-ac14-a9b497382e19",
   "metadata": {},
   "source": [
    "### Importing libraries and creating spark context "
   ]
  },
  {
   "cell_type": "code",
   "execution_count": 1,
   "id": "0ec40f5b-20d3-4fd8-a140-37eb1ac7605c",
   "metadata": {},
   "outputs": [],
   "source": [
    "from pyspark.sql import SparkSession\n",
    "from pyspark.conf import SparkConf"
   ]
  },
  {
   "cell_type": "code",
   "execution_count": 2,
   "id": "b6886c32-b7d1-462b-a59d-2d54e12075e6",
   "metadata": {},
   "outputs": [
    {
     "name": "stderr",
     "output_type": "stream",
     "text": [
      "23/11/10 06:34:26 WARN Utils: Your hostname, localhost.localdomain resolves to a loopback address: 127.0.0.1; using 10.21.12.68 instead (on interface eth0)\n",
      "23/11/10 06:34:26 WARN Utils: Set SPARK_LOCAL_IP if you need to bind to another address\n",
      "Setting default log level to \"WARN\".\n",
      "To adjust logging level use sc.setLogLevel(newLevel). For SparkR, use setLogLevel(newLevel).\n",
      "23/11/10 06:34:27 WARN NativeCodeLoader: Unable to load native-hadoop library for your platform... using builtin-java classes where applicable\n"
     ]
    },
    {
     "name": "stdout",
     "output_type": "stream",
     "text": [
      "Spark Session WebUI Port: 4040\n"
     ]
    }
   ],
   "source": [
    " #datawarehouse_location points to the default location for managed databases and tables\n",
    "from os.path import abspath\n",
    "warehouse_location = abspath('spark-warehouse')\n",
    "\n",
    "spark = sparkSession = (SparkSession\n",
    "                .builder\n",
    "                .master(\"local[*]\") \n",
    "                .appName(\"Bank Marketing big data project\") \n",
    "                .config(\"hive.metastore.uris\", \"thrift://localhost:9083\", conf=SparkConf())\n",
    "                .enableHiveSupport()\n",
    "                .getOrCreate()\n",
    "                )\n",
    "# note: If you have multiple spark sessions running (like from a previous notebook you've run), \n",
    "# this spark session webUI will be on a different port than the default (4040). One way to \n",
    "# identify this part is with the following line. If there was only one spark session running, \n",
    "# this will be 4040. If it's higher, it means there are still other spark sesssions still running.\n",
    "spark_session_port = spark.sparkContext.uiWebUrl.split(\":\")[-1]\n",
    "print(\"Spark Session WebUI Port: \" + spark_session_port)"
   ]
  },
  {
   "cell_type": "code",
   "execution_count": 3,
   "id": "9c94ff0d-19b6-4393-af94-c2cb2371f31a",
   "metadata": {},
   "outputs": [
    {
     "data": {
      "text/html": [
       "\n",
       "            <div>\n",
       "                <p><b>SparkSession - hive</b></p>\n",
       "                \n",
       "        <div>\n",
       "            <p><b>SparkContext</b></p>\n",
       "\n",
       "            <p><a href=\"http://linux:4040\">Spark UI</a></p>\n",
       "\n",
       "            <dl>\n",
       "              <dt>Version</dt>\n",
       "                <dd><code>v3.5.0</code></dd>\n",
       "              <dt>Master</dt>\n",
       "                <dd><code>local[*]</code></dd>\n",
       "              <dt>AppName</dt>\n",
       "                <dd><code>Bank Marketing big data project</code></dd>\n",
       "            </dl>\n",
       "        </div>\n",
       "        \n",
       "            </div>\n",
       "        "
      ],
      "text/plain": [
       "<pyspark.sql.session.SparkSession at 0x7f501b23e750>"
      ]
     },
     "execution_count": 3,
     "metadata": {},
     "output_type": "execute_result"
    }
   ],
   "source": [
    "spark "
   ]
  },
  {
   "cell_type": "markdown",
   "id": "ac50b01b-b151-4d95-b8c8-257b141745ab",
   "metadata": {},
   "source": [
    "### Import pandas dataframe and load the dataset ie csv file "
   ]
  },
  {
   "cell_type": "code",
   "execution_count": 4,
   "id": "67526dcf-ff78-447c-9e90-afec1d8cf785",
   "metadata": {},
   "outputs": [],
   "source": [
    "import pandas as pd "
   ]
  },
  {
   "cell_type": "code",
   "execution_count": 5,
   "id": "b1789caf-c2ab-4e3b-bf8e-36bf5fd21b66",
   "metadata": {},
   "outputs": [
    {
     "data": {
      "text/html": [
       "<div>\n",
       "<style scoped>\n",
       "    .dataframe tbody tr th:only-of-type {\n",
       "        vertical-align: middle;\n",
       "    }\n",
       "\n",
       "    .dataframe tbody tr th {\n",
       "        vertical-align: top;\n",
       "    }\n",
       "\n",
       "    .dataframe thead th {\n",
       "        text-align: right;\n",
       "    }\n",
       "</style>\n",
       "<table border=\"1\" class=\"dataframe\">\n",
       "  <thead>\n",
       "    <tr style=\"text-align: right;\">\n",
       "      <th></th>\n",
       "      <th>VendorID</th>\n",
       "      <th>tpep_pickup_datetime</th>\n",
       "      <th>tpep_dropoff_datetime</th>\n",
       "      <th>passenger_count</th>\n",
       "      <th>trip_distance</th>\n",
       "      <th>PULocationID</th>\n",
       "      <th>DOLocationID</th>\n",
       "      <th>fare_amount</th>\n",
       "      <th>extra</th>\n",
       "      <th>tip_amount</th>\n",
       "      <th>total_amount</th>\n",
       "      <th>airport_fee</th>\n",
       "    </tr>\n",
       "  </thead>\n",
       "  <tbody>\n",
       "    <tr>\n",
       "      <th>0</th>\n",
       "      <td>1</td>\n",
       "      <td>2/1/2022 0:06</td>\n",
       "      <td>2/1/2022 0:19</td>\n",
       "      <td>1</td>\n",
       "      <td>5.40</td>\n",
       "      <td>138</td>\n",
       "      <td>252</td>\n",
       "      <td>17.0</td>\n",
       "      <td>1.75</td>\n",
       "      <td>3.90</td>\n",
       "      <td>23.45</td>\n",
       "      <td>1.25</td>\n",
       "    </tr>\n",
       "    <tr>\n",
       "      <th>1</th>\n",
       "      <td>1</td>\n",
       "      <td>2/1/2022 0:38</td>\n",
       "      <td>2/1/2022 0:55</td>\n",
       "      <td>1</td>\n",
       "      <td>6.40</td>\n",
       "      <td>138</td>\n",
       "      <td>41</td>\n",
       "      <td>21.0</td>\n",
       "      <td>1.75</td>\n",
       "      <td>0.00</td>\n",
       "      <td>30.10</td>\n",
       "      <td>1.25</td>\n",
       "    </tr>\n",
       "    <tr>\n",
       "      <th>2</th>\n",
       "      <td>1</td>\n",
       "      <td>2/1/2022 0:03</td>\n",
       "      <td>2/1/2022 0:26</td>\n",
       "      <td>1</td>\n",
       "      <td>12.50</td>\n",
       "      <td>138</td>\n",
       "      <td>200</td>\n",
       "      <td>35.5</td>\n",
       "      <td>1.75</td>\n",
       "      <td>0.00</td>\n",
       "      <td>44.60</td>\n",
       "      <td>1.25</td>\n",
       "    </tr>\n",
       "    <tr>\n",
       "      <th>3</th>\n",
       "      <td>2</td>\n",
       "      <td>2/1/2022 0:08</td>\n",
       "      <td>2/1/2022 0:28</td>\n",
       "      <td>1</td>\n",
       "      <td>9.88</td>\n",
       "      <td>239</td>\n",
       "      <td>200</td>\n",
       "      <td>28.0</td>\n",
       "      <td>0.50</td>\n",
       "      <td>0.00</td>\n",
       "      <td>34.80</td>\n",
       "      <td>0.00</td>\n",
       "    </tr>\n",
       "    <tr>\n",
       "      <th>4</th>\n",
       "      <td>2</td>\n",
       "      <td>2/1/2022 0:06</td>\n",
       "      <td>2/1/2022 0:33</td>\n",
       "      <td>1</td>\n",
       "      <td>12.16</td>\n",
       "      <td>138</td>\n",
       "      <td>125</td>\n",
       "      <td>35.5</td>\n",
       "      <td>0.50</td>\n",
       "      <td>8.11</td>\n",
       "      <td>48.66</td>\n",
       "      <td>1.25</td>\n",
       "    </tr>\n",
       "  </tbody>\n",
       "</table>\n",
       "</div>"
      ],
      "text/plain": [
       "   VendorID tpep_pickup_datetime tpep_dropoff_datetime  passenger_count  \\\n",
       "0         1        2/1/2022 0:06         2/1/2022 0:19                1   \n",
       "1         1        2/1/2022 0:38         2/1/2022 0:55                1   \n",
       "2         1        2/1/2022 0:03         2/1/2022 0:26                1   \n",
       "3         2        2/1/2022 0:08         2/1/2022 0:28                1   \n",
       "4         2        2/1/2022 0:06         2/1/2022 0:33                1   \n",
       "\n",
       "   trip_distance  PULocationID  DOLocationID  fare_amount  extra  tip_amount  \\\n",
       "0           5.40           138           252         17.0   1.75        3.90   \n",
       "1           6.40           138            41         21.0   1.75        0.00   \n",
       "2          12.50           138           200         35.5   1.75        0.00   \n",
       "3           9.88           239           200         28.0   0.50        0.00   \n",
       "4          12.16           138           125         35.5   0.50        8.11   \n",
       "\n",
       "   total_amount  airport_fee  \n",
       "0         23.45         1.25  \n",
       "1         30.10         1.25  \n",
       "2         44.60         1.25  \n",
       "3         34.80         0.00  \n",
       "4         48.66         1.25  "
      ]
     },
     "execution_count": 5,
     "metadata": {},
     "output_type": "execute_result"
    }
   ],
   "source": [
    "df = pd.read_csv('data/yellow_tripdata_2022-02.csv')\n",
    "\n",
    "df.head()"
   ]
  },
  {
   "cell_type": "markdown",
   "id": "04d14593-b6f6-497e-9ebf-dba56d7c426c",
   "metadata": {},
   "source": [
    "### load data to spark dataframe "
   ]
  },
  {
   "cell_type": "code",
   "execution_count": 6,
   "id": "a3489589-7f06-4e63-840f-82369b7da5ce",
   "metadata": {},
   "outputs": [
    {
     "name": "stderr",
     "output_type": "stream",
     "text": [
      "                                                                                \r"
     ]
    },
    {
     "name": "stdout",
     "output_type": "stream",
     "text": [
      "+--------+--------------------+---------------------+---------------+-------------+------------+------------+-----------+-----+----------+------------+-----------+\n",
      "|VendorID|tpep_pickup_datetime|tpep_dropoff_datetime|passenger_count|trip_distance|PULocationID|DOLocationID|fare_amount|extra|tip_amount|total_amount|airport_fee|\n",
      "+--------+--------------------+---------------------+---------------+-------------+------------+------------+-----------+-----+----------+------------+-----------+\n",
      "|       1|       2/1/2022 0:06|        2/1/2022 0:19|              1|          5.4|         138|         252|       17.0| 1.75|       3.9|       23.45|       1.25|\n",
      "|       1|       2/1/2022 0:38|        2/1/2022 0:55|              1|          6.4|         138|          41|       21.0| 1.75|       0.0|        30.1|       1.25|\n",
      "|       1|       2/1/2022 0:03|        2/1/2022 0:26|              1|         12.5|         138|         200|       35.5| 1.75|       0.0|        44.6|       1.25|\n",
      "|       2|       2/1/2022 0:08|        2/1/2022 0:28|              1|         9.88|         239|         200|       28.0|  0.5|       0.0|        34.8|        0.0|\n",
      "|       2|       2/1/2022 0:06|        2/1/2022 0:33|              1|        12.16|         138|         125|       35.5|  0.5|      8.11|       48.66|       1.25|\n",
      "|       1|       2/1/2022 0:57|        2/1/2022 1:07|              2|          2.3|         140|         142|       10.0|  3.0|      2.75|       16.55|        0.0|\n",
      "|       1|       2/1/2022 0:34|        2/1/2022 1:01|              1|          7.5|         140|          36|       25.0|  3.0|       5.0|        33.8|        0.0|\n",
      "|       2|       2/1/2022 0:03|        2/1/2022 0:07|              1|         0.88|          48|          68|        5.0|  0.5|      1.76|       10.56|        0.0|\n",
      "|       2|       2/1/2022 0:13|        2/1/2022 0:31|              1|         6.48|         142|         244|       21.0|  0.5|      4.96|       29.76|        0.0|\n",
      "|       2|       2/1/2022 0:52|        2/1/2022 1:02|              1|         3.29|         238|         116|       12.0|  0.5|      2.66|       15.96|        0.0|\n",
      "+--------+--------------------+---------------------+---------------+-------------+------------+------------+-----------+-----+----------+------------+-----------+\n",
      "only showing top 10 rows\n",
      "\n"
     ]
    }
   ],
   "source": [
    "trips = spark.read.csv('data/yellow_tripdata_2022-02.csv' , header = True , inferSchema=True)\n",
    "\n",
    "# display the first 10 rows of the dataframe \n",
    "\n",
    "trips.show(10)\n"
   ]
  },
  {
   "cell_type": "code",
   "execution_count": 7,
   "id": "debbb973-8afc-4909-b21f-aa8584e233ce",
   "metadata": {},
   "outputs": [
    {
     "name": "stdout",
     "output_type": "stream",
     "text": [
      "root\n",
      " |-- VendorID: integer (nullable = true)\n",
      " |-- tpep_pickup_datetime: string (nullable = true)\n",
      " |-- tpep_dropoff_datetime: string (nullable = true)\n",
      " |-- passenger_count: integer (nullable = true)\n",
      " |-- trip_distance: double (nullable = true)\n",
      " |-- PULocationID: integer (nullable = true)\n",
      " |-- DOLocationID: integer (nullable = true)\n",
      " |-- fare_amount: double (nullable = true)\n",
      " |-- extra: double (nullable = true)\n",
      " |-- tip_amount: double (nullable = true)\n",
      " |-- total_amount: double (nullable = true)\n",
      " |-- airport_fee: double (nullable = true)\n",
      "\n"
     ]
    }
   ],
   "source": [
    "trips.printSchema()"
   ]
  },
  {
   "cell_type": "markdown",
   "id": "90d0a620-8162-4f69-a9dd-efc39b25bbe6",
   "metadata": {},
   "source": [
    "### Data-preprocessing and Exploration using SQL "
   ]
  },
  {
   "cell_type": "code",
   "execution_count": 8,
   "id": "301162ab-4760-406c-a07b-ddff5094d785",
   "metadata": {},
   "outputs": [],
   "source": [
    "### create db and table in spark \n",
    "\n",
    "trips.createOrReplaceTempView(\"trips_tmp_view\")\n"
   ]
  },
  {
   "cell_type": "code",
   "execution_count": 9,
   "id": "dc7ee74a-31fc-47ff-a6f0-af839804fbb6",
   "metadata": {},
   "outputs": [
    {
     "name": "stdout",
     "output_type": "stream",
     "text": [
      "+--------+--------------------+---------------------+---------------+-------------+------------+------------+-----------+-----+----------+------------+-----------+\n",
      "|VendorID|tpep_pickup_datetime|tpep_dropoff_datetime|passenger_count|trip_distance|PULocationID|DOLocationID|fare_amount|extra|tip_amount|total_amount|airport_fee|\n",
      "+--------+--------------------+---------------------+---------------+-------------+------------+------------+-----------+-----+----------+------------+-----------+\n",
      "|       1|       2/1/2022 0:06|        2/1/2022 0:19|              1|          5.4|         138|         252|       17.0| 1.75|       3.9|       23.45|       1.25|\n",
      "|       1|       2/1/2022 0:38|        2/1/2022 0:55|              1|          6.4|         138|          41|       21.0| 1.75|       0.0|        30.1|       1.25|\n",
      "|       1|       2/1/2022 0:03|        2/1/2022 0:26|              1|         12.5|         138|         200|       35.5| 1.75|       0.0|        44.6|       1.25|\n",
      "|       2|       2/1/2022 0:08|        2/1/2022 0:28|              1|         9.88|         239|         200|       28.0|  0.5|       0.0|        34.8|        0.0|\n",
      "|       2|       2/1/2022 0:06|        2/1/2022 0:33|              1|        12.16|         138|         125|       35.5|  0.5|      8.11|       48.66|       1.25|\n",
      "|       1|       2/1/2022 0:57|        2/1/2022 1:07|              2|          2.3|         140|         142|       10.0|  3.0|      2.75|       16.55|        0.0|\n",
      "|       1|       2/1/2022 0:34|        2/1/2022 1:01|              1|          7.5|         140|          36|       25.0|  3.0|       5.0|        33.8|        0.0|\n",
      "|       2|       2/1/2022 0:03|        2/1/2022 0:07|              1|         0.88|          48|          68|        5.0|  0.5|      1.76|       10.56|        0.0|\n",
      "|       2|       2/1/2022 0:13|        2/1/2022 0:31|              1|         6.48|         142|         244|       21.0|  0.5|      4.96|       29.76|        0.0|\n",
      "|       2|       2/1/2022 0:52|        2/1/2022 1:02|              1|         3.29|         238|         116|       12.0|  0.5|      2.66|       15.96|        0.0|\n",
      "+--------+--------------------+---------------------+---------------+-------------+------------+------------+-----------+-----+----------+------------+-----------+\n",
      "only showing top 10 rows\n",
      "\n"
     ]
    }
   ],
   "source": [
    "df= spark.sql(\"SELECT * FROM trips_tmp_view\")\n",
    "\n",
    "df.show(10)"
   ]
  },
  {
   "cell_type": "code",
   "execution_count": 10,
   "id": "a1c17089-663f-4e4d-9f32-1fa031a5c02c",
   "metadata": {},
   "outputs": [
    {
     "data": {
      "text/plain": [
       "pyspark.sql.dataframe.DataFrame"
      ]
     },
     "execution_count": 10,
     "metadata": {},
     "output_type": "execute_result"
    }
   ],
   "source": [
    "type(trips)"
   ]
  },
  {
   "cell_type": "code",
   "execution_count": 11,
   "id": "9e97fc97-0e77-4a58-84e6-aeb2cd659848",
   "metadata": {},
   "outputs": [
    {
     "name": "stderr",
     "output_type": "stream",
     "text": [
      "23/11/10 06:34:38 WARN HiveConf: HiveConf of name hive.stats.jdbc.timeout does not exist\n",
      "23/11/10 06:34:38 WARN HiveConf: HiveConf of name hive.stats.retries.wait does not exist\n",
      "23/11/10 06:34:41 WARN ObjectStore: Version information not found in metastore. hive.metastore.schema.verification is not enabled so recording the schema version 2.3.0\n",
      "23/11/10 06:34:41 WARN ObjectStore: setMetaStoreSchemaVersion called but recording version is disabled: version = 2.3.0, comment = Set by MetaStore student@127.0.0.1\n"
     ]
    },
    {
     "data": {
      "text/plain": [
       "DataFrame[]"
      ]
     },
     "execution_count": 11,
     "metadata": {},
     "output_type": "execute_result"
    }
   ],
   "source": [
    "spark.sql(\"CREATE DATABASE IF NOT EXISTS trips_db;\")"
   ]
  },
  {
   "cell_type": "code",
   "execution_count": 12,
   "id": "83572586-5285-4ce3-a93b-4b68d0dcbfc3",
   "metadata": {},
   "outputs": [
    {
     "name": "stderr",
     "output_type": "stream",
     "text": [
      "23/11/10 06:34:41 WARN ObjectStore: Failed to get database global_temp, returning NoSuchObjectException\n",
      "23/11/10 06:34:43 WARN MemoryManager: Total allocation exceeds 95.00% (1,020,054,720 bytes) of heap memory\n",
      "Scaling row group sizes to 95.00% for 8 writers\n",
      "23/11/10 06:34:43 WARN MemoryManager: Total allocation exceeds 95.00% (1,020,054,720 bytes) of heap memory\n",
      "Scaling row group sizes to 84.44% for 9 writers\n",
      "23/11/10 06:34:43 WARN MemoryManager: Total allocation exceeds 95.00% (1,020,054,720 bytes) of heap memory\n",
      "Scaling row group sizes to 76.00% for 10 writers\n",
      "23/11/10 06:34:43 WARN MemoryManager: Total allocation exceeds 95.00% (1,020,054,720 bytes) of heap memory\n",
      "Scaling row group sizes to 69.09% for 11 writers\n",
      "23/11/10 06:34:43 WARN MemoryManager: Total allocation exceeds 95.00% (1,020,054,720 bytes) of heap memory\n",
      "Scaling row group sizes to 63.33% for 12 writers\n",
      "23/11/10 06:34:43 WARN MemoryManager: Total allocation exceeds 95.00% (1,020,054,720 bytes) of heap memory\n",
      "Scaling row group sizes to 58.46% for 13 writers\n",
      "23/11/10 06:34:43 WARN MemoryManager: Total allocation exceeds 95.00% (1,020,054,720 bytes) of heap memory\n",
      "Scaling row group sizes to 54.29% for 14 writers\n",
      "23/11/10 06:34:43 WARN MemoryManager: Total allocation exceeds 95.00% (1,020,054,720 bytes) of heap memory\n",
      "Scaling row group sizes to 50.67% for 15 writers\n",
      "23/11/10 06:34:43 WARN MemoryManager: Total allocation exceeds 95.00% (1,020,054,720 bytes) of heap memory\n",
      "Scaling row group sizes to 47.50% for 16 writers\n",
      "23/11/10 06:34:44 WARN MemoryManager: Total allocation exceeds 95.00% (1,020,054,720 bytes) of heap memory\n",
      "Scaling row group sizes to 50.67% for 15 writers\n",
      "23/11/10 06:34:44 WARN MemoryManager: Total allocation exceeds 95.00% (1,020,054,720 bytes) of heap memory\n",
      "Scaling row group sizes to 54.29% for 14 writers\n",
      "23/11/10 06:34:44 WARN MemoryManager: Total allocation exceeds 95.00% (1,020,054,720 bytes) of heap memory\n",
      "Scaling row group sizes to 58.46% for 13 writers\n",
      "23/11/10 06:34:44 WARN MemoryManager: Total allocation exceeds 95.00% (1,020,054,720 bytes) of heap memory\n",
      "Scaling row group sizes to 63.33% for 12 writers\n",
      "23/11/10 06:34:44 WARN MemoryManager: Total allocation exceeds 95.00% (1,020,054,720 bytes) of heap memory\n",
      "Scaling row group sizes to 69.09% for 11 writers\n",
      "23/11/10 06:34:44 WARN MemoryManager: Total allocation exceeds 95.00% (1,020,054,720 bytes) of heap memory\n",
      "Scaling row group sizes to 76.00% for 10 writers\n",
      "23/11/10 06:34:44 WARN MemoryManager: Total allocation exceeds 95.00% (1,020,054,720 bytes) of heap memory\n",
      "Scaling row group sizes to 84.44% for 9 writers\n",
      "23/11/10 06:34:44 WARN MemoryManager: Total allocation exceeds 95.00% (1,020,054,720 bytes) of heap memory\n",
      "Scaling row group sizes to 95.00% for 8 writers\n",
      "23/11/10 06:34:44 WARN SessionState: METASTORE_FILTER_HOOK will be ignored, since hive.security.authorization.manager is set to instance of HiveAuthorizerFactory.\n",
      "23/11/10 06:34:44 WARN HiveConf: HiveConf of name hive.internal.ss.authz.settings.applied.marker does not exist\n",
      "23/11/10 06:34:44 WARN HiveConf: HiveConf of name hive.stats.jdbc.timeout does not exist\n",
      "23/11/10 06:34:44 WARN HiveConf: HiveConf of name hive.stats.retries.wait does not exist\n"
     ]
    }
   ],
   "source": [
    "trips.write.mode(\"overwrite\").saveAsTable(\"trips_db.trips\")"
   ]
  },
  {
   "cell_type": "code",
   "execution_count": 13,
   "id": "89c96b81-a5e7-4ca3-8d52-7da53fa23504",
   "metadata": {},
   "outputs": [
    {
     "data": {
      "text/plain": [
       "[Table(name='trips', catalog='spark_catalog', namespace=['trips_db'], description=None, tableType='MANAGED', isTemporary=False),\n",
       " Table(name='trips_tmp_view', catalog=None, namespace=[], description=None, tableType='TEMPORARY', isTemporary=True)]"
      ]
     },
     "execution_count": 13,
     "metadata": {},
     "output_type": "execute_result"
    }
   ],
   "source": [
    "spark.catalog.listTables('trips_db')"
   ]
  },
  {
   "cell_type": "code",
   "execution_count": 14,
   "id": "25ed0b4b-1ce5-4e0a-9e8d-dcb66b6d63be",
   "metadata": {},
   "outputs": [
    {
     "name": "stdout",
     "output_type": "stream",
     "text": [
      "+--------+--------------------+---------------------+---------------+-------------+------------+------------+-----------+-----+----------+------------+-----------+\n",
      "|VendorID|tpep_pickup_datetime|tpep_dropoff_datetime|passenger_count|trip_distance|PULocationID|DOLocationID|fare_amount|extra|tip_amount|total_amount|airport_fee|\n",
      "+--------+--------------------+---------------------+---------------+-------------+------------+------------+-----------+-----+----------+------------+-----------+\n",
      "|       2|      2/6/2022 18:00|       2/6/2022 18:15|              1|         3.09|         230|         263|       12.5|  0.0|      3.16|       18.96|        0.0|\n",
      "|       1|      2/6/2022 18:05|       2/6/2022 18:54|              1|         19.5|         132|          26|       56.0| 1.25|       0.0|       58.05|       1.25|\n",
      "|       1|      2/6/2022 18:33|       2/6/2022 18:52|              1|          4.3|         231|         142|       16.0|  2.5|       1.0|        20.3|        0.0|\n",
      "|       1|      2/6/2022 18:39|       2/6/2022 18:49|              1|          1.5|         230|         141|        8.5|  2.5|      1.18|       12.98|        0.0|\n",
      "|       1|      2/6/2022 18:56|       2/6/2022 19:01|              1|          0.7|         237|         163|        5.5|  2.5|       0.0|         8.8|        0.0|\n",
      "|       2|      2/6/2022 18:01|       2/6/2022 18:22|              1|         2.93|         148|         255|       16.5|  0.0|      3.96|       23.76|        0.0|\n",
      "|       2|      2/6/2022 18:38|       2/6/2022 18:55|              1|          8.9|         138|         148|       25.5|  0.0|      5.76|       35.81|       1.25|\n",
      "|       2|      2/6/2022 18:57|       2/6/2022 18:59|              1|         0.51|         148|          79|        4.0|  0.0|      1.82|        9.12|        0.0|\n",
      "|       2|      2/6/2022 17:53|       2/6/2022 18:14|              1|         3.16|         186|         140|       15.5|  0.0|       0.0|        18.8|        0.0|\n",
      "|       2|      2/6/2022 18:20|       2/6/2022 18:34|              1|         4.88|         140|          79|       16.0|  0.0|       0.0|        19.3|        0.0|\n",
      "+--------+--------------------+---------------------+---------------+-------------+------------+------------+-----------+-----+----------+------------+-----------+\n",
      "only showing top 10 rows\n",
      "\n"
     ]
    }
   ],
   "source": [
    "df = spark.sql(\"SELECT * FROM trips_db.trips\")\n",
    "df.show(10)"
   ]
  },
  {
   "cell_type": "code",
   "execution_count": 15,
   "id": "1191fdeb-d330-442d-91a9-1eecf996d91e",
   "metadata": {},
   "outputs": [
    {
     "name": "stdout",
     "output_type": "stream",
     "text": [
      "+--------------------+---------+-------+\n",
      "|            col_name|data_type|comment|\n",
      "+--------------------+---------+-------+\n",
      "|            VendorID|      int|   NULL|\n",
      "|tpep_pickup_datetime|   string|   NULL|\n",
      "|tpep_dropoff_date...|   string|   NULL|\n",
      "|     passenger_count|      int|   NULL|\n",
      "|       trip_distance|   double|   NULL|\n",
      "|        PULocationID|      int|   NULL|\n",
      "|        DOLocationID|      int|   NULL|\n",
      "|         fare_amount|   double|   NULL|\n",
      "|               extra|   double|   NULL|\n",
      "|          tip_amount|   double|   NULL|\n",
      "|        total_amount|   double|   NULL|\n",
      "|         airport_fee|   double|   NULL|\n",
      "+--------------------+---------+-------+\n",
      "\n"
     ]
    }
   ],
   "source": [
    "df = spark.sql(\" describe trips_db.trips\")\n",
    "df.show()"
   ]
  },
  {
   "cell_type": "markdown",
   "id": "0a1c60ca-7aaf-40dc-9fe7-cd2ca47c5b2b",
   "metadata": {},
   "source": [
    "### Number of Trips by VendorID "
   ]
  },
  {
   "cell_type": "code",
   "execution_count": 16,
   "id": "06e7b8ed-051c-4701-8942-756f75764bc1",
   "metadata": {},
   "outputs": [
    {
     "name": "stdout",
     "output_type": "stream",
     "text": [
      "+---------+\n",
      "|vendorID1|\n",
      "+---------+\n",
      "|   319007|\n",
      "+---------+\n",
      "\n"
     ]
    }
   ],
   "source": [
    "vendor1_trips = spark.sql(\"\"\"SELECT COUNT(VendorID) as vendorID1 \n",
    "    FROM trips_db.trips \n",
    "    WHERE VendorID=1\"\"\")\n",
    "\n",
    "vendor1_trips.show()"
   ]
  },
  {
   "cell_type": "code",
   "execution_count": 17,
   "id": "c9ca31f3-d6ca-4f0d-b1f3-781ab91baf6a",
   "metadata": {},
   "outputs": [
    {
     "name": "stdout",
     "output_type": "stream",
     "text": [
      "+---------+\n",
      "|vendorID2|\n",
      "+---------+\n",
      "|   724579|\n",
      "+---------+\n",
      "\n"
     ]
    }
   ],
   "source": [
    "vendor2_trips = spark.sql(\"\"\"SELECT COUNT(VendorID) as vendorID2 \n",
    "    FROM trips_db.trips \n",
    "    WHERE VendorID=2\"\"\")\n",
    "\n",
    "vendor2_trips.show()"
   ]
  },
  {
   "cell_type": "code",
   "execution_count": 18,
   "id": "ad77ef49-9637-4640-a5dc-6ad97e458f44",
   "metadata": {},
   "outputs": [
    {
     "name": "stdout",
     "output_type": "stream",
     "text": [
      "Requirement already satisfied: matplotlib in /home/student/miniconda3/envs/bd/lib/python3.12/site-packages (3.8.1)\n",
      "Requirement already satisfied: contourpy>=1.0.1 in /home/student/miniconda3/envs/bd/lib/python3.12/site-packages (from matplotlib) (1.2.0)\n",
      "Requirement already satisfied: cycler>=0.10 in /home/student/miniconda3/envs/bd/lib/python3.12/site-packages (from matplotlib) (0.12.1)\n",
      "Requirement already satisfied: fonttools>=4.22.0 in /home/student/miniconda3/envs/bd/lib/python3.12/site-packages (from matplotlib) (4.44.0)\n",
      "Requirement already satisfied: kiwisolver>=1.3.1 in /home/student/miniconda3/envs/bd/lib/python3.12/site-packages (from matplotlib) (1.4.5)\n",
      "Requirement already satisfied: numpy<2,>=1.21 in /home/student/miniconda3/envs/bd/lib/python3.12/site-packages (from matplotlib) (1.26.0)\n",
      "Requirement already satisfied: packaging>=20.0 in /home/student/miniconda3/envs/bd/lib/python3.12/site-packages (from matplotlib) (23.2)\n",
      "Requirement already satisfied: pillow>=8 in /home/student/miniconda3/envs/bd/lib/python3.12/site-packages (from matplotlib) (10.1.0)\n",
      "Requirement already satisfied: pyparsing>=2.3.1 in /home/student/miniconda3/envs/bd/lib/python3.12/site-packages (from matplotlib) (3.1.1)\n",
      "Requirement already satisfied: python-dateutil>=2.7 in /home/student/miniconda3/envs/bd/lib/python3.12/site-packages (from matplotlib) (2.8.2)\n",
      "Requirement already satisfied: six>=1.5 in /home/student/miniconda3/envs/bd/lib/python3.12/site-packages (from python-dateutil>=2.7->matplotlib) (1.16.0)\n"
     ]
    }
   ],
   "source": [
    "!pip install matplotlib\n"
   ]
  },
  {
   "cell_type": "code",
   "execution_count": 19,
   "id": "6e344020-675b-45aa-94c0-408e3f1653b2",
   "metadata": {},
   "outputs": [
    {
     "data": {
      "image/png": "[encoded data removed]",
      "text/plain": [
       "<Figure size 640x480 with 1 Axes>"
      ]
     },
     "metadata": {},
     "output_type": "display_data"
    }
   ],
   "source": [
    "import matplotlib.pyplot as plt\n",
    "from pyspark.sql import SparkSession\n",
    "\n",
    "# Convert the result to Pandas for easy plotting\n",
    "vendor1_count = vendor1_trips.toPandas()['vendorID1'][0]\n",
    "vendor2_count = vendor2_trips.toPandas()['vendorID2'][0]\n",
    "\n",
    "# Plotting the bar chart\n",
    "vendors = ['VendorID 1', 'VendorID 2']\n",
    "counts = [vendor1_count, vendor2_count]\n",
    "\n",
    "plt.bar(vendors, counts, color=['blue', 'green'])\n",
    "plt.title('Number of Trips for VendorID 1 and VendorID 2')\n",
    "plt.xlabel('VendorID')\n",
    "plt.ylabel('Number of Trips')\n",
    "plt.show()\n"
   ]
  },
  {
   "cell_type": "markdown",
   "id": "49cc9ecf-90b7-460e-b194-2775ca344c75",
   "metadata": {},
   "source": [
    "### Number of trips by pickup and dropff location "
   ]
  },
  {
   "cell_type": "code",
   "execution_count": 20,
   "id": "00c9da14-a388-49a4-842c-b71b8f621280",
   "metadata": {},
   "outputs": [
    {
     "name": "stderr",
     "output_type": "stream",
     "text": [
      "[Stage 21:====================================================>   (15 + 1) / 16]\r"
     ]
    },
    {
     "name": "stdout",
     "output_type": "stream",
     "text": [
      "+------------+------------+\n",
      "|PULocationID|pickup_count|\n",
      "+------------+------------+\n",
      "|         237|       55209|\n",
      "|         236|       52974|\n",
      "|         161|       41126|\n",
      "|         162|       35420|\n",
      "|         142|       34384|\n",
      "|         186|       34369|\n",
      "|         170|       33203|\n",
      "|         132|       32341|\n",
      "|         239|       32263|\n",
      "|          48|       31510|\n",
      "|         141|       30099|\n",
      "|         230|       29825|\n",
      "|         163|       29167|\n",
      "|         234|       28463|\n",
      "|          79|       26295|\n",
      "|         238|       26257|\n",
      "|          68|       26134|\n",
      "|         107|       26053|\n",
      "|         140|       25555|\n",
      "|         263|       24865|\n",
      "+------------+------------+\n",
      "only showing top 20 rows\n",
      "\n"
     ]
    },
    {
     "name": "stderr",
     "output_type": "stream",
     "text": [
      "                                                                                \r"
     ]
    }
   ],
   "source": [
    "\n",
    "# count of each pickup location \n",
    "\n",
    "pickup_trips = spark.sql(\"\"\"SELECT PULocationID, COUNT(*) AS pickup_count \n",
    "    FROM trips_db.trips \n",
    "    GROUP BY PULocationID\n",
    "    ORDER BY pickup_count DESC\"\"\")\n",
    "\n",
    "pickup_trips.show()\n",
    "\n"
   ]
  },
  {
   "cell_type": "code",
   "execution_count": 21,
   "id": "50b50bdd-3b0a-469d-aa0b-c65d3d8ab8a6",
   "metadata": {},
   "outputs": [
    {
     "name": "stdout",
     "output_type": "stream",
     "text": [
      "+------------+-------------+\n",
      "|DOLocationID|dropoff_count|\n",
      "+------------+-------------+\n",
      "|         236|        54140|\n",
      "|         237|        48257|\n",
      "|         161|        34393|\n",
      "|         239|        32257|\n",
      "|         170|        32028|\n",
      "|         141|        31752|\n",
      "|         142|        29920|\n",
      "|         238|        28305|\n",
      "|          48|        27783|\n",
      "|         162|        26909|\n",
      "|         230|        25045|\n",
      "|         234|        24873|\n",
      "|         163|        24807|\n",
      "|         263|        24779|\n",
      "|         140|        24667|\n",
      "|          68|        24638|\n",
      "|         229|        23356|\n",
      "|          79|        22013|\n",
      "|         107|        22002|\n",
      "|         186|        21423|\n",
      "+------------+-------------+\n",
      "only showing top 20 rows\n",
      "\n"
     ]
    }
   ],
   "source": [
    "\n",
    "# count of each dropoff location \n",
    "\n",
    "dropoff_trips = spark.sql(\"\"\"SELECT DOLocationID, COUNT(*) AS dropoff_count \n",
    "    FROM trips_db.trips\n",
    "    GROUP BY DOLocationID \n",
    "    ORDER BY dropoff_count DESC\"\"\")\n",
    "\n",
    "dropoff_trips.show()"
   ]
  },
  {
   "cell_type": "markdown",
   "id": "f54d0186-c62d-417c-8cd0-23aa36857611",
   "metadata": {},
   "source": [
    "### The most frequented pick up and drop off location are  Taxi Zones 237 & 236"
   ]
  },
  {
   "cell_type": "markdown",
   "id": "5140b1e3-aef3-4957-8bc7-cd660dfdd124",
   "metadata": {},
   "source": [
    "### Which vendor provides a better service? Assumption : Tipping being a metric for good service "
   ]
  },
  {
   "cell_type": "code",
   "execution_count": 22,
   "id": "9404a2c8-82ec-4226-97a7-fc7399bfb86d",
   "metadata": {},
   "outputs": [
    {
     "name": "stdout",
     "output_type": "stream",
     "text": [
      "+--------+-------+\n",
      "|VendorID|avg_tip|\n",
      "+--------+-------+\n",
      "|       2|   2.48|\n",
      "|       1|   2.33|\n",
      "+--------+-------+\n",
      "\n"
     ]
    }
   ],
   "source": [
    "avg_tip_per_vendor = spark.sql(\"\"\"SELECT VendorID, ROUND(AVG(tip_amount),2) AS avg_tip \n",
    "    FROM trips_db.trips \n",
    "    GROUP BY VendorID \n",
    "    ORDER BY avg_tip DESC \"\"\")\n",
    "\n",
    "avg_tip_per_vendor.show()\n"
   ]
  },
  {
   "cell_type": "markdown",
   "id": "9aa8a9e9-fbc8-4859-9c4a-4a4f0ebd032b",
   "metadata": {},
   "source": [
    "### THe avg_tip difference between both vendors is very small and from above it is known vendor 2 has almost twice the number of trips than the vendor 1 \n",
    "### it might be challening to draw a conclusion on service quality "
   ]
  },
  {
   "cell_type": "markdown",
   "id": "d7115d73-519e-41a9-a5ab-c5801ff5af6d",
   "metadata": {},
   "source": [
    "### What is the average fare amount  for the trips with rush hour or overnight charge? "
   ]
  },
  {
   "cell_type": "code",
   "execution_count": 23,
   "id": "7636ed69-65b0-4aaa-91d5-5d16dac6b8c4",
   "metadata": {},
   "outputs": [
    {
     "name": "stdout",
     "output_type": "stream",
     "text": [
      "+---------------+\n",
      "|avg_fare_amount|\n",
      "+---------------+\n",
      "|         12.133|\n",
      "+---------------+\n",
      "\n"
     ]
    }
   ],
   "source": [
    "avg_fare_amount_rush_hour = spark.sql(\"\"\"SELECT ROUND(AVG(fare_amount),3) as avg_fare_amount \n",
    "    FROM trips_db.trips \n",
    "    WHERE extra > 0\"\"\")\n",
    "\n",
    "avg_fare_amount_rush_hour.show()\n"
   ]
  },
  {
   "cell_type": "markdown",
   "id": "4dc9e84a-785b-48ee-8c16-f4dc4c29299b",
   "metadata": {},
   "source": [
    "### What is the average total amount collected for trips with more than 2 passengers ? "
   ]
  },
  {
   "cell_type": "code",
   "execution_count": 24,
   "id": "c096d012-f604-4417-8638-1a7ceddd6c8d",
   "metadata": {},
   "outputs": [
    {
     "name": "stdout",
     "output_type": "stream",
     "text": [
      "+----------+\n",
      "|total_fare|\n",
      "+----------+\n",
      "|     19.23|\n",
      "+----------+\n",
      "\n"
     ]
    }
   ],
   "source": [
    "avg_total_for_large_groups = spark.sql(\"\"\"SELECT ROUND(AVG(total_amount),2) as total_fare \n",
    "    FROM trips_db.trips  \n",
    "    WHERE passenger_count > 2\"\"\")\n",
    "\n",
    "avg_total_for_large_groups.show()\n"
   ]
  },
  {
   "cell_type": "markdown",
   "id": "1f296b6c-6a5e-4a21-8c1e-926f8dd6ebba",
   "metadata": {},
   "source": [
    "### What is the avergare trip distance for each passenger count? "
   ]
  },
  {
   "cell_type": "code",
   "execution_count": 25,
   "id": "02432bd3-06e0-47b9-a245-69b08c7e5c27",
   "metadata": {},
   "outputs": [
    {
     "name": "stdout",
     "output_type": "stream",
     "text": [
      "+---------------+------------+\n",
      "|passenger_count|avg_distance|\n",
      "+---------------+------------+\n",
      "|              1|        2.84|\n",
      "|              6|        2.92|\n",
      "|              3|        3.02|\n",
      "|              5|         2.9|\n",
      "|              4|         3.1|\n",
      "|              2|        3.23|\n",
      "|              0|        2.61|\n",
      "|              8|        1.66|\n",
      "|              9|         0.0|\n",
      "|              7|        0.73|\n",
      "+---------------+------------+\n",
      "\n"
     ]
    }
   ],
   "source": [
    "avg_distance_per_passenger = spark.sql(\"\"\"SELECT passenger_count, ROUND(AVG(trip_distance),2) as avg_distance \n",
    "    FROM trips_db.trips \n",
    "    GROUP BY passenger_count\"\"\")\n",
    "\n",
    "avg_distance_per_passenger.show() \n"
   ]
  },
  {
   "cell_type": "code",
   "execution_count": 26,
   "id": "c4be7b1a-5a2b-4043-8aac-fa56bd14c797",
   "metadata": {},
   "outputs": [
    {
     "data": {
      "image/png": "[encoded data removed]",
      "text/plain": [
       "<Figure size 640x480 with 1 Axes>"
      ]
     },
     "metadata": {},
     "output_type": "display_data"
    }
   ],
   "source": [
    "\n",
    "\n",
    "# Convert Spark DataFrame to Pandas DataFrame\n",
    "avg_distance_per_passenger_pd = avg_distance_per_passenger.toPandas()\n",
    "\n",
    "# Plotting the histogram using Pandas DataFrame\n",
    "plt.bar(avg_distance_per_passenger_pd['passenger_count'], avg_distance_per_passenger_pd['avg_distance'], color='lightgreen', alpha=0.7)\n",
    "plt.xlabel('Passenger Count')\n",
    "plt.ylabel('Average Distance')\n",
    "plt.title('Average Distance per Passenger Count')\n",
    "plt.show() \n"
   ]
  },
  {
   "cell_type": "markdown",
   "id": "645cd378-8fab-437f-a5e3-52c2d885026c",
   "metadata": {},
   "source": [
    "#### What is the relation between trip distance and fare amount ? "
   ]
  },
  {
   "cell_type": "code",
   "execution_count": 27,
   "id": "1dbd5181-ab8e-4ee6-b477-178c64dec3fe",
   "metadata": {},
   "outputs": [
    {
     "name": "stderr",
     "output_type": "stream",
     "text": [
      "                                                                                \r"
     ]
    },
    {
     "data": {
      "image/png": "[encoded data removed]",
      "text/plain": [
       "<Figure size 1000x600 with 1 Axes>"
      ]
     },
     "metadata": {},
     "output_type": "display_data"
    }
   ],
   "source": [
    "\n",
    "trips_pd = trips.toPandas()\n",
    "\n",
    "# Scatter plot\n",
    "plt.figure(figsize=(10, 6))\n",
    "plt.scatter(trips_pd['trip_distance'], trips_pd['fare_amount'], alpha=0.5)\n",
    "plt.title('Trip distance Vs Fare amount')\n",
    "plt.xlabel('Trip Distance (miles)')\n",
    "plt.ylabel('Fare Amount ($)')\n",
    "plt.grid(True)\n",
    "plt.show()"
   ]
  },
  {
   "cell_type": "markdown",
   "id": "f4afdd9e-a182-4177-ac47-e19e777bb19e",
   "metadata": {},
   "source": [
    "### From the above scatter , general trend seems to increase in fare amount for every additional mile travelled . Negative fares might represent refund amount for cancelled trips.\n",
    "### Zero fare amount for distance travelled may represnt promotional offers for the ride. Fare amounts for zero distance travelled might be cancellation of trips after late cancellation \n",
    "### or minimum fare charged regardless of distance travelled. "
   ]
  },
  {
   "cell_type": "markdown",
   "id": "8df7039d-3818-4e56-a257-ebaaf5e85254",
   "metadata": {},
   "source": [
    "### understanding structure of data and proceed with datacleaning if any required "
   ]
  },
  {
   "cell_type": "code",
   "execution_count": 28,
   "id": "b771ec18-b2bc-41de-b338-46133842f08f",
   "metadata": {},
   "outputs": [
    {
     "data": {
      "text/plain": [
       "['VendorID',\n",
       " 'tpep_pickup_datetime',\n",
       " 'tpep_dropoff_datetime',\n",
       " 'passenger_count',\n",
       " 'trip_distance',\n",
       " 'PULocationID',\n",
       " 'DOLocationID',\n",
       " 'fare_amount',\n",
       " 'extra',\n",
       " 'tip_amount',\n",
       " 'total_amount',\n",
       " 'airport_fee']"
      ]
     },
     "execution_count": 28,
     "metadata": {},
     "output_type": "execute_result"
    }
   ],
   "source": [
    "# Retreving column names \n",
    "\n",
    "trips.columns"
   ]
  },
  {
   "cell_type": "code",
   "execution_count": 29,
   "id": "c46049d1-e351-4a5f-874c-85ee15360487",
   "metadata": {},
   "outputs": [
    {
     "name": "stdout",
     "output_type": "stream",
     "text": [
      "Number of rows: 1043586\n",
      "Number of columns: 12\n"
     ]
    }
   ],
   "source": [
    "# number of rows\n",
    "num_rows = trips.count()\n",
    "\n",
    "#  number of columns\n",
    "num_columns = len(trips.columns)\n",
    "\n",
    "print(\"Number of rows: {}\".format(num_rows))\n",
    "print(\"Number of columns: {}\".format(num_columns))\n"
   ]
  },
  {
   "cell_type": "code",
   "execution_count": 30,
   "id": "b73154c0-9de3-40c6-8b35-6351230aa521",
   "metadata": {},
   "outputs": [
    {
     "name": "stdout",
     "output_type": "stream",
     "text": [
      "root\n",
      " |-- VendorID: integer (nullable = true)\n",
      " |-- tpep_pickup_datetime: string (nullable = true)\n",
      " |-- tpep_dropoff_datetime: string (nullable = true)\n",
      " |-- passenger_count: integer (nullable = true)\n",
      " |-- trip_distance: double (nullable = true)\n",
      " |-- PULocationID: integer (nullable = true)\n",
      " |-- DOLocationID: integer (nullable = true)\n",
      " |-- fare_amount: double (nullable = true)\n",
      " |-- extra: double (nullable = true)\n",
      " |-- tip_amount: double (nullable = true)\n",
      " |-- total_amount: double (nullable = true)\n",
      " |-- airport_fee: double (nullable = true)\n",
      "\n"
     ]
    }
   ],
   "source": [
    "trips.printSchema()"
   ]
  },
  {
   "cell_type": "code",
   "execution_count": 31,
   "id": "63945e58-b2f7-47dd-ab4d-5b0119cb1469",
   "metadata": {},
   "outputs": [],
   "source": [
    "selected_columns = ['VendorID', 'passenger_count', 'trip_distance', 'PULocationID', 'DOLocationID', 'fare_amount', 'extra', 'airport_fee']"
   ]
  },
  {
   "cell_type": "code",
   "execution_count": 32,
   "id": "8149d566-cb5a-4f1f-8cfc-55432abfe34e",
   "metadata": {},
   "outputs": [],
   "source": [
    "selected_data = trips.select(selected_columns)"
   ]
  },
  {
   "cell_type": "code",
   "execution_count": 33,
   "id": "e6498c8f-730a-42d0-aea7-5613576a4ff4",
   "metadata": {},
   "outputs": [],
   "source": [
    "# Drop rowns with any null values \n",
    "selected_data = selected_data.dropna() \n"
   ]
  },
  {
   "cell_type": "code",
   "execution_count": 34,
   "id": "6e561dac-a8e2-40af-9dd7-1dd5c0879f62",
   "metadata": {},
   "outputs": [],
   "source": [
    "from pyspark.ml.feature import VectorAssembler\n",
    "\n",
    "feature_cols = ['VendorID', 'passenger_count', 'trip_distance', 'PULocationID', 'DOLocationID', 'extra', 'airport_fee']\n",
    "assembler = VectorAssembler(inputCols=feature_cols, outputCol='features')\n",
    "selected_data = assembler.transform(selected_data)\n"
   ]
  },
  {
   "cell_type": "code",
   "execution_count": 35,
   "id": "b0829625-f059-40e4-8be0-3666146e63e9",
   "metadata": {},
   "outputs": [],
   "source": [
    "# Split the data into training and testing sets and setting seed for reproducability \n",
    "(train_data, test_data) = selected_data.randomSplit([0.8, 0.2], seed=12345)"
   ]
  },
  {
   "cell_type": "code",
   "execution_count": null,
   "id": "2eee963b-b46b-4bb7-b93e-eb94c736f313",
   "metadata": {},
   "outputs": [],
   "source": []
  },
  {
   "cell_type": "markdown",
   "id": "17130ab9-174b-4d51-b95b-5eee5f55f5ea",
   "metadata": {},
   "source": [
    "## Linear Regression "
   ]
  },
  {
   "cell_type": "code",
   "execution_count": 39,
   "id": "8fd403fd-28da-4ad9-b3e7-496a1cdded81",
   "metadata": {},
   "outputs": [],
   "source": [
    "from pyspark.ml.regression import LinearRegression\n"
   ]
  },
  {
   "cell_type": "code",
   "execution_count": null,
   "id": "2d333cd1-f628-4130-9d8b-18710cb30b1f",
   "metadata": {},
   "outputs": [],
   "source": [
    "# using regularization to avoid overfitting "
   ]
  },
  {
   "cell_type": "code",
   "execution_count": 41,
   "id": "248ca822-8ab0-46c5-afa9-4d97267c2e01",
   "metadata": {},
   "outputs": [
    {
     "name": "stderr",
     "output_type": "stream",
     "text": [
      "                                                                                \r"
     ]
    }
   ],
   "source": [
    "# linear regression model\n",
    "lr = LinearRegression(featuresCol=\"features\", labelCol=\"fare_amount\" , regParam=0.01)\n",
    "\n",
    "lr_model_fit = lr.fit(train_data) \n",
    "\n",
    "\n"
   ]
  },
  {
   "cell_type": "code",
   "execution_count": 43,
   "id": "6339d2fd-c323-41f7-9a7d-65785318809b",
   "metadata": {},
   "outputs": [
    {
     "name": "stdout",
     "output_type": "stream",
     "text": [
      "+--------+---------------+-------------+------------+------------+-----------+-----+-----------+--------------------+------------------+\n",
      "|VendorID|passenger_count|trip_distance|PULocationID|DOLocationID|fare_amount|extra|airport_fee|            features|        prediction|\n",
      "+--------+---------------+-------------+------------+------------+-----------+-----+-----------+--------------------+------------------+\n",
      "|       1|              0|          0.0|         145|         145|        2.5|  0.0|        0.0|(7,[0,3,4],[1.0,1...| 7.436901487989827|\n",
      "|       1|              0|          0.1|         162|         161|        3.5|  2.5|        0.0|[1.0,0.0,0.1,162....| 5.599024316955831|\n",
      "|       1|              0|          0.1|         239|         239|        3.0|  2.5|        0.0|[1.0,0.0,0.1,239....| 5.609854930942885|\n",
      "|       1|              0|          0.2|         161|         230|        3.5|  2.5|        0.0|[1.0,0.0,0.2,161....|  5.85933320748763|\n",
      "|       1|              0|          0.3|         142|         143|        3.5|  2.5|        0.0|[1.0,0.0,0.3,142....| 6.132302529000903|\n",
      "|       1|              0|          0.3|         263|         236|        3.5|  2.5|        0.0|[1.0,0.0,0.3,263....|6.1525830741696526|\n",
      "|       1|              0|          0.3|         264|         264|        3.5|  0.0|        0.0|[1.0,0.0,0.3,264....| 8.258320964968636|\n",
      "|       1|              0|          0.4|         229|         161|        4.5|  3.5|        0.0|[1.0,0.0,0.4,229....| 5.577014312937529|\n",
      "|       1|              0|          0.5|         140|         263|        4.5|  2.5|        0.0|[1.0,0.0,0.5,140....| 6.654905272005687|\n",
      "|       1|              0|          0.5|         141|         236|        6.0|  2.5|        0.0|[1.0,0.0,0.5,141....|  6.65813508005685|\n",
      "|       1|              0|          0.5|         161|         162|        4.5|  3.5|        0.0|[1.0,0.0,0.5,161....| 5.827913484242074|\n",
      "|       1|              0|          0.5|         237|         163|        9.0|  2.5|        0.0|[1.0,0.0,0.5,237....| 6.690412256865413|\n",
      "|       1|              0|          0.5|         239|         143|        4.5|  3.5|        0.0|[1.0,0.0,0.5,239....| 5.849693202718244|\n",
      "|       1|              0|          0.6|          48|          68|        6.0|  2.5|        0.0|[1.0,0.0,0.6,48.0...| 6.921361709991405|\n",
      "|       1|              0|          0.6|          68|          90|        5.5|  3.5|        0.0|[1.0,0.0,0.6,68.0...| 6.080553650490289|\n",
      "|       1|              0|          0.6|          74|          74|        8.0|  0.0|        0.0|[1.0,0.0,0.6,74.0...| 9.035834793869657|\n",
      "|       1|              0|          0.6|          90|          68|        5.0|  2.5|        0.0|[1.0,0.0,0.6,90.0...| 6.931961045845334|\n",
      "|       1|              0|          0.6|         100|         186|        4.0|  2.5|        0.0|[1.0,0.0,0.6,100....| 6.921472168958001|\n",
      "|       1|              0|          0.6|         114|          79|        5.0|  3.5|        0.0|[1.0,0.0,0.6,114....| 6.093375479199129|\n",
      "|       1|              0|          0.6|         142|         142|        4.5|  2.5|        0.0|[1.0,0.0,0.6,142....| 6.936923634001503|\n",
      "+--------+---------------+-------------+------------+------------+-----------+-----+-----------+--------------------+------------------+\n",
      "only showing top 20 rows\n",
      "\n"
     ]
    },
    {
     "name": "stderr",
     "output_type": "stream",
     "text": [
      "                                                                                \r"
     ]
    }
   ],
   "source": [
    "# make predictions on test test set \n",
    "\n",
    "predictions = lr_model.transform(test_data)\n",
    "\n",
    "predictions.show()"
   ]
  },
  {
   "cell_type": "markdown",
   "id": "6c74562b-4fd0-4c01-be3a-67a891ae804a",
   "metadata": {},
   "source": [
    "### Model Evaluation"
   ]
  },
  {
   "cell_type": "code",
   "execution_count": 45,
   "id": "d0239fa9-5db6-4dc7-a70c-84af84206405",
   "metadata": {},
   "outputs": [
    {
     "name": "stderr",
     "output_type": "stream",
     "text": [
      "[Stage 137:=====================================>                 (11 + 5) / 16]\r"
     ]
    },
    {
     "name": "stdout",
     "output_type": "stream",
     "text": [
      "Root Mean Squared Error (RMSE): 5.568032314321241\n"
     ]
    },
    {
     "name": "stderr",
     "output_type": "stream",
     "text": [
      "                                                                                \r"
     ]
    }
   ],
   "source": [
    "evaluator = RegressionEvaluator(labelCol=\"fare_amount\", predictionCol=\"prediction\", metricName=\"rmse\")\n",
    "rmse = evaluator.evaluate(predictions)\n",
    "print(f\"Root Mean Squared Error (RMSE): {rmse}\")"
   ]
  },
  {
   "cell_type": "markdown",
   "id": "86c0f48e-48ce-4b3b-a2dc-ea75da3c8983",
   "metadata": {},
   "source": [
    "## Decision Tree "
   ]
  },
  {
   "cell_type": "code",
   "execution_count": 52,
   "id": "04b2636f-553e-4cad-8549-f8d8cdc99676",
   "metadata": {},
   "outputs": [],
   "source": [
    "from pyspark.ml.regression import  DecisionTreeRegressor\n",
    "from pyspark.ml import Pipeline\n",
    "from pyspark.ml.evaluation import MulticlassClassificationEvaluator, BinaryClassificationEvaluator\n",
    "from pyspark.mllib.evaluation import MulticlassMetrics"
   ]
  },
  {
   "cell_type": "code",
   "execution_count": 53,
   "id": "52d98977-7750-4d6a-b85c-c8f332b66bf6",
   "metadata": {},
   "outputs": [],
   "source": [
    "# Decisison tree model \n",
    "dt = DecisionTreeRegressor(labelCol='fare_amount', featuresCol='features')\n"
   ]
  },
  {
   "cell_type": "code",
   "execution_count": 54,
   "id": "6d214579-9811-4424-9815-844fb1e8ea78",
   "metadata": {},
   "outputs": [],
   "source": [
    "# create a pipeline \n",
    "\n",
    "pipe = Pipeline(stages=[dt])"
   ]
  },
  {
   "cell_type": "code",
   "execution_count": 57,
   "id": "dcd349c5-8fd2-4084-aaec-16b1251304e6",
   "metadata": {},
   "outputs": [
    {
     "name": "stderr",
     "output_type": "stream",
     "text": [
      "                                                                                \r"
     ]
    }
   ],
   "source": [
    "#Train the model \n",
    "\n",
    "dt_model = pipe.fit(train_data)\n"
   ]
  },
  {
   "cell_type": "code",
   "execution_count": 58,
   "id": "9acdeb4c-bffd-457c-9632-e365a03e5dfc",
   "metadata": {},
   "outputs": [],
   "source": [
    "# make predictions on test data \n",
    "\n",
    "dt_predictions = dt_model.transform(test_data)"
   ]
  },
  {
   "cell_type": "code",
   "execution_count": 59,
   "id": "13de4d1d-800e-41be-9ae0-23ab48035289",
   "metadata": {},
   "outputs": [
    {
     "name": "stderr",
     "output_type": "stream",
     "text": [
      "[Stage 169:==================================>                    (10 + 6) / 16]\r"
     ]
    },
    {
     "name": "stdout",
     "output_type": "stream",
     "text": [
      "The accuracy of the decision tree classifier is 0.0\n"
     ]
    },
    {
     "name": "stderr",
     "output_type": "stream",
     "text": [
      "                                                                                \r"
     ]
    }
   ],
   "source": [
    "dt_evaluator = MulticlassClassificationEvaluator(\n",
    "    labelCol='fare_amount', predictionCol=\"prediction\", metricName=\"accuracy\")\n",
    "\n",
    "accuracy = dt_evaluator.evaluate(dt_predictions)\n",
    "\n",
    "print(f\"The accuracy of the decision tree classifier is {accuracy}\")"
   ]
  },
  {
   "cell_type": "code",
   "execution_count": null,
   "id": "cb780036-5227-43f1-bd49-a15ef6a2ea4c",
   "metadata": {
    "jupyter": {
     "source_hidden": true
    }
   },
   "outputs": [],
   "source": []
  },
  {
   "cell_type": "code",
   "execution_count": null,
   "id": "0fd16a25-e222-4a14-8739-811c342028c4",
   "metadata": {},
   "outputs": [],
   "source": []
  },
  {
   "cell_type": "code",
   "execution_count": null,
   "id": "224ef333-b1cf-4c8c-a058-aeee2ba7da08",
   "metadata": {},
   "outputs": [],
   "source": []
  },
  {
   "cell_type": "code",
   "execution_count": null,
   "id": "48c4b7c9-05f4-47fb-a900-1e5076e1d5d6",
   "metadata": {},
   "outputs": [],
   "source": []
  }
 ],
 "metadata": {
  "kernelspec": {
   "display_name": "Python 3 (ipykernel)",
   "language": "python",
   "name": "python3"
  },
  "language_info": {
   "codemirror_mode": {
    "name": "ipython",
    "version": 3
   },
   "file_extension": ".py",
   "mimetype": "text/x-python",
   "name": "python",
   "nbconvert_exporter": "python",
   "pygments_lexer": "ipython3",
   "version": "3.12.0"
  }
 },
 "nbformat": 4,
 "nbformat_minor": 5
}
